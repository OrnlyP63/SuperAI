{
 "cells": [
  {
   "cell_type": "markdown",
   "id": "d3ecbca6",
   "metadata": {
    "slideshow": {
     "slide_type": "slide"
    }
   },
   "source": [
    "# Z3 For Saerch-Problem"
   ]
  },
  {
   "cell_type": "code",
   "execution_count": 1,
   "id": "d9a399b3",
   "metadata": {
    "slideshow": {
     "slide_type": "slide"
    }
   },
   "outputs": [
    {
     "data": {
      "text/html": [
       "<iframe src=\"https://en.wikipedia.org/wiki/Z3_Theorem_Prover\" width=\"1200\" height=\"1000\"></iframe>\n"
      ],
      "text/plain": [
       "<IPython.core.display.HTML object>"
      ]
     },
     "metadata": {},
     "output_type": "display_data"
    }
   ],
   "source": [
    "%%html\n",
    "<iframe src=\"https://en.wikipedia.org/wiki/Z3_Theorem_Prover\" width=\"1200\" height=\"1000\"></iframe>"
   ]
  },
  {
   "cell_type": "code",
   "execution_count": 2,
   "id": "42d85c32",
   "metadata": {
    "slideshow": {
     "slide_type": "slide"
    }
   },
   "outputs": [
    {
     "data": {
      "text/html": [
       "<iframe src='https://theory.stanford.edu/~nikolaj/programmingz3.html'width=\"1200\" height=\"1000\"></iframe>\n"
      ],
      "text/plain": [
       "<IPython.core.display.HTML object>"
      ]
     },
     "metadata": {},
     "output_type": "display_data"
    }
   ],
   "source": [
    "%%html\n",
    "<iframe src='https://theory.stanford.edu/~nikolaj/programmingz3.html'width=\"1200\" height=\"1000\"></iframe>\n"
   ]
  },
  {
   "cell_type": "markdown",
   "id": "9d82d23a",
   "metadata": {},
   "source": [
    "**Z3, It can be used to check the satisfiability of logical formulas over one or more theories.**"
   ]
  },
  {
   "cell_type": "code",
   "execution_count": 3,
   "id": "c80ba217",
   "metadata": {
    "slideshow": {
     "slide_type": "slide"
    }
   },
   "outputs": [],
   "source": [
    "from z3 import *"
   ]
  },
  {
   "cell_type": "code",
   "execution_count": 4,
   "id": "e2463cde",
   "metadata": {
    "scrolled": true,
    "slideshow": {
     "slide_type": "fragment"
    }
   },
   "outputs": [],
   "source": [
    "import cv2\n",
    "import numpy as np\n",
    "import matplotlib.pyplot as plt"
   ]
  },
  {
   "cell_type": "markdown",
   "id": "ffe322de",
   "metadata": {
    "slideshow": {
     "slide_type": "slide"
    }
   },
   "source": [
    "#### Condition\n",
    "* $x \\lor y$\n",
    "* $\\neg x \\lor y$\n",
    "* $\\neg x \\lor \\neg y$"
   ]
  },
  {
   "cell_type": "code",
   "execution_count": 5,
   "id": "18c85ca4",
   "metadata": {
    "slideshow": {
     "slide_type": "slide"
    }
   },
   "outputs": [],
   "source": [
    "x = Bool(\"x\")\n",
    "y = bool(\"y\")"
   ]
  },
  {
   "cell_type": "code",
   "execution_count": 6,
   "id": "f838b3d0",
   "metadata": {
    "slideshow": {
     "slide_type": "fragment"
    }
   },
   "outputs": [],
   "source": [
    "x, y = Bools(\"x y\")"
   ]
  },
  {
   "cell_type": "code",
   "execution_count": 7,
   "id": "37b82d4a",
   "metadata": {
    "slideshow": {
     "slide_type": "fragment"
    }
   },
   "outputs": [],
   "source": [
    "S = Solver()"
   ]
  },
  {
   "cell_type": "code",
   "execution_count": 8,
   "id": "ed9a0e03",
   "metadata": {
    "slideshow": {
     "slide_type": "fragment"
    }
   },
   "outputs": [],
   "source": [
    "S.add(Or(x, y), Or(Not(x), y), Or(Not(x), Not(y)))"
   ]
  },
  {
   "cell_type": "code",
   "execution_count": 9,
   "id": "7cd97b33",
   "metadata": {
    "slideshow": {
     "slide_type": "fragment"
    }
   },
   "outputs": [
    {
     "data": {
      "text/html": [
       "<b>sat</b>"
      ],
      "text/plain": [
       "sat"
      ]
     },
     "execution_count": 9,
     "metadata": {},
     "output_type": "execute_result"
    }
   ],
   "source": [
    "S.check()"
   ]
  },
  {
   "cell_type": "code",
   "execution_count": 10,
   "id": "ade66c50",
   "metadata": {
    "slideshow": {
     "slide_type": "fragment"
    }
   },
   "outputs": [
    {
     "name": "stdout",
     "output_type": "stream",
     "text": [
      "[y = True, x = False]\n"
     ]
    }
   ],
   "source": [
    "print(S.model())"
   ]
  },
  {
   "cell_type": "markdown",
   "id": "1e7d2d74",
   "metadata": {
    "slideshow": {
     "slide_type": "slide"
    }
   },
   "source": [
    "#### Condition\n",
    "* $x > 2$\n",
    "* $y < 10$\n",
    "* $x + 2y = 7$\n",
    "* $x, y \\in \\mathbb{Z}$"
   ]
  },
  {
   "cell_type": "code",
   "execution_count": 11,
   "id": "43e60b5b",
   "metadata": {
    "slideshow": {
     "slide_type": "subslide"
    }
   },
   "outputs": [
    {
     "name": "stdout",
     "output_type": "stream",
     "text": [
      "[y = 0, x = 7]\n"
     ]
    }
   ],
   "source": [
    "x = Int('x')\n",
    "y = Int('y')\n",
    "solve(x > 2, y < 10, x + 2*y == 7)"
   ]
  },
  {
   "cell_type": "markdown",
   "id": "ef6af014",
   "metadata": {
    "slideshow": {
     "slide_type": "slide"
    }
   },
   "source": [
    "#### Condition\n",
    "* $x^2 + y^2 > 3$\n",
    "* $x^3 + y < 5$\n",
    "* $x, y \\in \\mathbb{R}$"
   ]
  },
  {
   "cell_type": "code",
   "execution_count": 12,
   "id": "bbf8e133",
   "metadata": {
    "slideshow": {
     "slide_type": "subslide"
    }
   },
   "outputs": [
    {
     "name": "stdout",
     "output_type": "stream",
     "text": [
      "[y = 2, x = 1/8]\n"
     ]
    }
   ],
   "source": [
    "x = Real('x')\n",
    "y = Real('y')\n",
    "solve(x**2 + y**2 > 3, x**3 + y < 5)"
   ]
  },
  {
   "cell_type": "markdown",
   "id": "c3af187b",
   "metadata": {
    "slideshow": {
     "slide_type": "slide"
    }
   },
   "source": [
    "## Fitting Rectangle"
   ]
  },
  {
   "cell_type": "markdown",
   "id": "9e62e4f5",
   "metadata": {
    "slideshow": {
     "slide_type": "slide"
    }
   },
   "source": [
    "#### Model"
   ]
  },
  {
   "cell_type": "markdown",
   "id": "14cae710",
   "metadata": {
    "slideshow": {
     "slide_type": "subslide"
    }
   },
   "source": [
    "<center><img src=\"rect.png\" width =\"500\" height=500 align=\"center\"></center>"
   ]
  },
  {
   "cell_type": "markdown",
   "id": "65ed288c",
   "metadata": {
    "slideshow": {
     "slide_type": "subslide"
    }
   },
   "source": [
    "Number rectangles from $1$ to $n$ \n",
    "\n",
    "for $i = 1, 2, 3, \\cdots, n$ \n",
    "* $w_i$ is the **width** of rectangle i\n",
    "* $h_i$ is the **height** of rectangle i\n",
    "* $x_i$ is the **x-coordinate** of the left lower corner of rectangle i\n",
    "* $y_i$ is the **y-coordinate** of the left lower corner of rectangle i"
   ]
  },
  {
   "cell_type": "code",
   "execution_count": 13,
   "id": "44467aa6",
   "metadata": {
    "slideshow": {
     "slide_type": "slide"
    }
   },
   "outputs": [],
   "source": [
    "w = [Int(f'w{i}') for i in range(4)]\n",
    "h = [Int(f'h{i}') for i in range(4)]"
   ]
  },
  {
   "cell_type": "code",
   "execution_count": 14,
   "id": "6c0c0c24",
   "metadata": {
    "slideshow": {
     "slide_type": "fragment"
    }
   },
   "outputs": [
    {
     "name": "stdout",
     "output_type": "stream",
     "text": [
      "[w0, w1, w2, w3]\n",
      "[h0, h1, h2, h3]\n"
     ]
    }
   ],
   "source": [
    "print(w)\n",
    "print(h)"
   ]
  },
  {
   "cell_type": "code",
   "execution_count": 15,
   "id": "905a0ed3",
   "metadata": {
    "slideshow": {
     "slide_type": "fragment"
    }
   },
   "outputs": [],
   "source": [
    "W = [20,40,60,30]\n",
    "H = [20,70,80,20]"
   ]
  },
  {
   "cell_type": "markdown",
   "id": "0294f806",
   "metadata": {
    "slideshow": {
     "slide_type": "slide"
    }
   },
   "source": [
    "#### Rotation"
   ]
  },
  {
   "cell_type": "markdown",
   "id": "f7ec4bed",
   "metadata": {
    "slideshow": {
     "slide_type": "subslide"
    }
   },
   "source": [
    "<center><img src=\"Rotate.png\"></center>"
   ]
  },
  {
   "cell_type": "markdown",
   "id": "622ea489",
   "metadata": {
    "slideshow": {
     "slide_type": "subslide"
    }
   },
   "source": [
    "**Rotation conditions.**\n",
    "* $(w_i = W_i \\land h_i = H_i) \\lor (w_i = H_i \\land h_i = W_i)$\n",
    "* for $i = 1, 2, 3, \\cdots, n$"
   ]
  },
  {
   "cell_type": "code",
   "execution_count": 16,
   "id": "224c6b2d",
   "metadata": {
    "slideshow": {
     "slide_type": "fragment"
    }
   },
   "outputs": [],
   "source": [
    "Form = [Or(And(w[i]==W[i],h[i]==H[i]), And(w[i]==H[i],h[i]==W[i])) for i in range(4)]"
   ]
  },
  {
   "cell_type": "code",
   "execution_count": 17,
   "id": "b3de5b7d-75a8-4ff1-b349-c0e5c2ab5909",
   "metadata": {
    "slideshow": {
     "slide_type": "skip"
    }
   },
   "outputs": [
    {
     "name": "stdout",
     "output_type": "stream",
     "text": [
      "[Or(And(w0 == 20, h0 == 20), And(w0 == 20, h0 == 20)), Or(And(w1 == 40, h1 == 70), And(w1 == 70, h1 == 40)), Or(And(w2 == 60, h2 == 80), And(w2 == 80, h2 == 60)), Or(And(w3 == 30, h3 == 20), And(w3 == 20, h3 == 30))]\n"
     ]
    }
   ],
   "source": [
    "print(Form)"
   ]
  },
  {
   "cell_type": "markdown",
   "id": "77f99e72",
   "metadata": {
    "slideshow": {
     "slide_type": "slide"
    }
   },
   "source": [
    "#### Being Inside."
   ]
  },
  {
   "cell_type": "markdown",
   "id": "6bde2312",
   "metadata": {
    "slideshow": {
     "slide_type": "subslide"
    }
   },
   "source": [
    "<center><img src=\"Inside.png\"></center>"
   ]
  },
  {
   "cell_type": "markdown",
   "id": "b80a3b78",
   "metadata": {
    "slideshow": {
     "slide_type": "subslide"
    }
   },
   "source": [
    "**Being Inside conditions.**\n",
    "\n",
    "Let \n",
    "* $(0,0)$ is lowest left corner of big rectangle.\n",
    "* $W$ is width of big **rectangele**.\n",
    "* $H$ is height of big **rectangle**.\n",
    "\n",
    "Condition.\n",
    "* $x_i \\geq 0 \\land x_i + w_i \\leq W$\n",
    "* $y_i \\geq 0 \\land y_i + h_i \\leq H$ \n",
    "* for all $i = 1, 2, 3, \\cdots, n$\n"
   ]
  },
  {
   "cell_type": "code",
   "execution_count": 18,
   "id": "4b96011d",
   "metadata": {
    "slideshow": {
     "slide_type": "subslide"
    }
   },
   "outputs": [],
   "source": [
    "Width = 100\n",
    "Height = 100"
   ]
  },
  {
   "cell_type": "code",
   "execution_count": 19,
   "id": "7e3709fa",
   "metadata": {
    "slideshow": {
     "slide_type": "fragment"
    }
   },
   "outputs": [],
   "source": [
    "x = [Int(f'x{i}') for i in range(4)]\n",
    "y = [Int(f'y{i}') for i in range(4)]"
   ]
  },
  {
   "cell_type": "code",
   "execution_count": 20,
   "id": "353d29fc",
   "metadata": {
    "slideshow": {
     "slide_type": "fragment"
    }
   },
   "outputs": [],
   "source": [
    "IN = [And(x[i]>=0,x[i]+w[i]<=Width,y[i]>=0,y[i]+h[i]<=Height) for i in range(4)]"
   ]
  },
  {
   "cell_type": "markdown",
   "id": "127325df",
   "metadata": {
    "slideshow": {
     "slide_type": "slide"
    }
   },
   "source": [
    "#### Non-Overlab"
   ]
  },
  {
   "cell_type": "markdown",
   "id": "fc590edc",
   "metadata": {
    "slideshow": {
     "slide_type": "subslide"
    }
   },
   "source": [
    "**Non-Overlab conditions.**\n",
    "\n",
    "Let $I$ and $J$ be rectangle.\n",
    "\n",
    "* $(x_i, y_i)$ be a lower corner of $I$\n",
    "* $(x_j, y_j)$ be a lower corner of $J$\n",
    "* $w_i$ be the width of $I$\n",
    "* $h_i$ be the height of $I$\n",
    "* $w_j$ be the width of $J$\n",
    "* $h_j$ be the height of $J$\n"
   ]
  },
  {
   "cell_type": "markdown",
   "id": "3f2a61a6",
   "metadata": {
    "slideshow": {
     "slide_type": "subslide"
    }
   },
   "source": [
    "condition.\n",
    "\n",
    "* $x_i + w_i \\leq x_j$ or\n",
    "* $x_j + w_j \\leq x_i$ or\n",
    "* $y_i + h_i \\leq y_j$ or\n",
    "* $y_j + h_j \\leq y_i$"
   ]
  },
  {
   "cell_type": "code",
   "execution_count": 21,
   "id": "60f70f3b",
   "metadata": {
    "slideshow": {
     "slide_type": "fragment"
    }
   },
   "outputs": [],
   "source": [
    "Overlap = []\n",
    "for i,j in [(m,k) for m in range(4) for k in range(4) if m < k]:\n",
    "    Overlap = Overlap + [Or(x[i]+w[i]<=x[j],x[j]+w[j]<=x[i],y[i]+h[i]<=y[j],y[j]+h[j]<=y[i])]"
   ]
  },
  {
   "cell_type": "markdown",
   "id": "c12d36b9",
   "metadata": {
    "slideshow": {
     "slide_type": "slide"
    }
   },
   "source": [
    "#### Solve"
   ]
  },
  {
   "cell_type": "code",
   "execution_count": 22,
   "id": "9194515a",
   "metadata": {
    "slideshow": {
     "slide_type": "fragment"
    }
   },
   "outputs": [],
   "source": [
    "s = Solver()\n",
    "s.add(Form + IN + Overlap)"
   ]
  },
  {
   "cell_type": "code",
   "execution_count": 23,
   "id": "6c41a23c",
   "metadata": {
    "slideshow": {
     "slide_type": "fragment"
    }
   },
   "outputs": [
    {
     "data": {
      "text/html": [
       "<b>sat</b>"
      ],
      "text/plain": [
       "sat"
      ]
     },
     "execution_count": 23,
     "metadata": {},
     "output_type": "execute_result"
    }
   ],
   "source": [
    "s.check()"
   ]
  },
  {
   "cell_type": "code",
   "execution_count": 24,
   "id": "698ce436",
   "metadata": {
    "slideshow": {
     "slide_type": "fragment"
    }
   },
   "outputs": [],
   "source": [
    "m = s.model()"
   ]
  },
  {
   "cell_type": "markdown",
   "id": "7e6832c7",
   "metadata": {
    "slideshow": {
     "slide_type": "slide"
    }
   },
   "source": [
    "#### Visulize"
   ]
  },
  {
   "cell_type": "code",
   "execution_count": 25,
   "id": "97b9721a",
   "metadata": {
    "slideshow": {
     "slide_type": "subslide"
    }
   },
   "outputs": [
    {
     "data": {
      "text/plain": [
       "<matplotlib.image.AxesImage at 0x2462966db08>"
      ]
     },
     "execution_count": 25,
     "metadata": {},
     "output_type": "execute_result"
    },
    {
     "data": {
      "image/png": "[encoded data removed]",
      "text/plain": [
       "<Figure size 432x288 with 1 Axes>"
      ]
     },
     "metadata": {
      "needs_background": "light"
     },
     "output_type": "display_data"
    }
   ],
   "source": [
    "img = np.zeros([Width,Height,3],dtype=np.uint8)\n",
    "img.fill(255)\n",
    "for i in range(4):\n",
    "    X = m[x[i]].as_long()\n",
    "    Y = m[y[i]].as_long()\n",
    "    W = m[w[i]].as_long()\n",
    "    H = m[h[i]].as_long()\n",
    "    cv2.rectangle(img,(X,100-Y),((X+W),100-(Y+H)),(0,255,0),-1)\n",
    "    cv2.rectangle(img,(X,100-Y),((X+W),100-(Y+H)),(0,0,0),1)\n",
    "plt.imshow(img)"
   ]
  },
  {
   "cell_type": "markdown",
   "id": "a9af71e6",
   "metadata": {
    "slideshow": {
     "slide_type": "slide"
    }
   },
   "source": [
    "#### Optimization"
   ]
  },
  {
   "cell_type": "markdown",
   "id": "53c45128",
   "metadata": {
    "slideshow": {
     "slide_type": "subslide"
    }
   },
   "source": [
    "<center><img src=\"Optimization.png\"></center>"
   ]
  },
  {
   "cell_type": "markdown",
   "id": "8ce626c5",
   "metadata": {
    "slideshow": {
     "slide_type": "subslide"
    }
   },
   "source": [
    "<center><img src=\"RECT_3.png\"></center>\n",
    "\n",
    "<a href=\"https://github.com/OrnlyP63/BETACUBE/blob/master/BETACUBE/ProjectBETACUBE.ipynb\" >Github</a>"
   ]
  },
  {
   "cell_type": "markdown",
   "id": "42ec6869",
   "metadata": {
    "slideshow": {
     "slide_type": "slide"
    }
   },
   "source": [
    "## Special Thank for Images"
   ]
  },
  {
   "cell_type": "markdown",
   "id": "1142c4d6",
   "metadata": {
    "slideshow": {
     "slide_type": "fragment"
    }
   },
   "source": [
    "* Nathakit keawtoomla"
   ]
  },
  {
   "cell_type": "markdown",
   "id": "f77caa57",
   "metadata": {
    "slideshow": {
     "slide_type": "fragment"
    }
   },
   "source": [
    "* Tinnapat jaimunt"
   ]
  },
  {
   "cell_type": "markdown",
   "id": "6b5d1ec8",
   "metadata": {
    "slideshow": {
     "slide_type": "slide"
    }
   },
   "source": [
    "# Follow Me.\n",
    "\n",
    "* <a href=\"https://github.com/OrnlyP63\">https://github.com/OrnlyP63</a>\n",
    "\n",
    "* <a href = \"https://medium.com/@phiphatchomchit\"> https://medium.com/@phiphatchomchit</a>"
   ]
  }
 ],
 "metadata": {
  "celltoolbar": "Slideshow",
  "kernelspec": {
   "display_name": "Python (AIML)",
   "language": "python",
   "name": "aiml"
  },
  "language_info": {
   "codemirror_mode": {
    "name": "ipython",
    "version": 3
   },
   "file_extension": ".py",
   "mimetype": "text/x-python",
   "name": "python",
   "nbconvert_exporter": "python",
   "pygments_lexer": "ipython3",
   "version": "3.7.9"
  }
 },
 "nbformat": 4,
 "nbformat_minor": 5
}
