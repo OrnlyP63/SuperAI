{
 "cells": [
  {
   "cell_type": "code",
   "execution_count": 1,
   "id": "77c0d700",
   "metadata": {
    "slideshow": {
     "slide_type": "slide"
    }
   },
   "outputs": [],
   "source": [
    "from z3 import *"
   ]
  },
  {
   "cell_type": "code",
   "execution_count": 2,
   "id": "749044bf",
   "metadata": {
    "scrolled": true,
    "slideshow": {
     "slide_type": "fragment"
    }
   },
   "outputs": [],
   "source": [
    "import cv2\n",
    "import numpy as np\n",
    "import matplotlib.pyplot as plt"
   ]
  },
  {
   "cell_type": "markdown",
   "id": "187a883f",
   "metadata": {
    "slideshow": {
     "slide_type": "slide"
    }
   },
   "source": [
    "#### Condition\n",
    "* $x \\lor y$\n",
    "* $\\neg x \\lor y$\n",
    "* $\\neg x \\lor \\neg y$"
   ]
  },
  {
   "cell_type": "code",
   "execution_count": 3,
   "id": "772adc7e",
   "metadata": {
    "slideshow": {
     "slide_type": "slide"
    }
   },
   "outputs": [],
   "source": [
    "x = Bool(\"x\")\n",
    "y = bool(\"y\")"
   ]
  },
  {
   "cell_type": "code",
   "execution_count": 4,
   "id": "3ec34ec2",
   "metadata": {
    "slideshow": {
     "slide_type": "fragment"
    }
   },
   "outputs": [],
   "source": [
    "x, y = Bools(\"x y\")"
   ]
  },
  {
   "cell_type": "code",
   "execution_count": 5,
   "id": "94f56215",
   "metadata": {
    "slideshow": {
     "slide_type": "fragment"
    }
   },
   "outputs": [],
   "source": [
    "S = Solver()"
   ]
  },
  {
   "cell_type": "code",
   "execution_count": 6,
   "id": "c181e51f",
   "metadata": {
    "slideshow": {
     "slide_type": "fragment"
    }
   },
   "outputs": [],
   "source": [
    "S.add(Or(x, y), Or(Not(x), y), Or(Not(x), Not(y)))"
   ]
  },
  {
   "cell_type": "code",
   "execution_count": 7,
   "id": "7443f084",
   "metadata": {
    "slideshow": {
     "slide_type": "fragment"
    }
   },
   "outputs": [
    {
     "data": {
      "text/html": [
       "<b>sat</b>"
      ],
      "text/plain": [
       "sat"
      ]
     },
     "execution_count": 7,
     "metadata": {},
     "output_type": "execute_result"
    }
   ],
   "source": [
    "S.check()"
   ]
  },
  {
   "cell_type": "code",
   "execution_count": 8,
   "id": "d219c3cf",
   "metadata": {
    "slideshow": {
     "slide_type": "fragment"
    }
   },
   "outputs": [
    {
     "name": "stdout",
     "output_type": "stream",
     "text": [
      "[y = True, x = False]\n"
     ]
    }
   ],
   "source": [
    "print(S.model())"
   ]
  },
  {
   "cell_type": "markdown",
   "id": "15641e08",
   "metadata": {
    "slideshow": {
     "slide_type": "slide"
    }
   },
   "source": [
    "#### Condition\n",
    "* $x > 2$\n",
    "* $y < 10$\n",
    "* $x + 2y = 7$\n",
    "* $x, y \\in \\mathbb{Z}$"
   ]
  },
  {
   "cell_type": "code",
   "execution_count": 9,
   "id": "f9ee1fea",
   "metadata": {
    "slideshow": {
     "slide_type": "subslide"
    }
   },
   "outputs": [
    {
     "name": "stdout",
     "output_type": "stream",
     "text": [
      "[y = 0, x = 7]\n"
     ]
    }
   ],
   "source": [
    "x = Int('x')\n",
    "y = Int('y')\n",
    "solve(x > 2, y < 10, x + 2*y == 7)"
   ]
  },
  {
   "cell_type": "markdown",
   "id": "1781bcf4",
   "metadata": {
    "slideshow": {
     "slide_type": "slide"
    }
   },
   "source": [
    "#### Condition\n",
    "* $x^2 + y^2 > 3$\n",
    "* $x^3 + y < 5$\n",
    "* $x, y \\in \\mathbb{R}$"
   ]
  },
  {
   "cell_type": "code",
   "execution_count": 10,
   "id": "c1ccd6fa",
   "metadata": {
    "slideshow": {
     "slide_type": "subslide"
    }
   },
   "outputs": [
    {
     "name": "stdout",
     "output_type": "stream",
     "text": [
      "[y = 2, x = 1/8]\n"
     ]
    }
   ],
   "source": [
    "x = Real('x')\n",
    "y = Real('y')\n",
    "solve(x**2 + y**2 > 3, x**3 + y < 5)"
   ]
  },
  {
   "cell_type": "markdown",
   "id": "104e9b93",
   "metadata": {
    "slideshow": {
     "slide_type": "slide"
    }
   },
   "source": [
    "## Fitting Rectangle"
   ]
  },
  {
   "cell_type": "markdown",
   "id": "a0479792",
   "metadata": {
    "slideshow": {
     "slide_type": "slide"
    }
   },
   "source": [
    "#### Model"
   ]
  },
  {
   "cell_type": "markdown",
   "id": "12aad2ba",
   "metadata": {
    "slideshow": {
     "slide_type": "fragment"
    }
   },
   "source": [
    "Number rectangles from $1$ to $n$ \n",
    "\n",
    "for $i = 1, 2, 3, \\cdots, n$ \n",
    "* $w_i$ is the **width** of rectangle i\n",
    "* $h_i$ is the **height** of rectangle i\n",
    "* $x_i$ is the **x-coordinate** of the left lower corner of rectangle i\n",
    "* $y_i$ is the **y-coordinate** of the left lower corner of rectangle i"
   ]
  },
  {
   "cell_type": "code",
   "execution_count": 11,
   "id": "d9673a54",
   "metadata": {
    "slideshow": {
     "slide_type": "slide"
    }
   },
   "outputs": [],
   "source": [
    "w = [Int(f'w{i}') for i in range(4)]\n",
    "h = [Int(f'h{i}') for i in range(4)]"
   ]
  },
  {
   "cell_type": "code",
   "execution_count": 12,
   "id": "9f4cb2c6",
   "metadata": {
    "slideshow": {
     "slide_type": "fragment"
    }
   },
   "outputs": [
    {
     "name": "stdout",
     "output_type": "stream",
     "text": [
      "[w0, w1, w2, w3]\n",
      "[h0, h1, h2, h3]\n"
     ]
    }
   ],
   "source": [
    "print(w)\n",
    "print(h)"
   ]
  },
  {
   "cell_type": "code",
   "execution_count": 13,
   "id": "635bc21a",
   "metadata": {
    "slideshow": {
     "slide_type": "fragment"
    }
   },
   "outputs": [],
   "source": [
    "W = [20,40,60,30]\n",
    "H = [20,70,80,20]"
   ]
  },
  {
   "cell_type": "markdown",
   "id": "9fa4dc4f",
   "metadata": {
    "slideshow": {
     "slide_type": "slide"
    }
   },
   "source": [
    "**Rotation.**\n",
    "* $(w_i = W_i \\land h_i = H_i) \\lor (w_i = H_i \\land h_i = W_i)$\n",
    "* for $i = 1, 2, 3, \\cdots, n$"
   ]
  },
  {
   "cell_type": "code",
   "execution_count": 14,
   "id": "4b6f16b7",
   "metadata": {
    "slideshow": {
     "slide_type": "fragment"
    }
   },
   "outputs": [],
   "source": [
    "Form = [Or(And(w[i]==W[i],h[i]==H[i]), And(w[i]==H[i],h[i]==W[i])) for i in range(4)]"
   ]
  },
  {
   "cell_type": "code",
   "execution_count": 15,
   "id": "73e4342c",
   "metadata": {
    "scrolled": true,
    "slideshow": {
     "slide_type": "fragment"
    }
   },
   "outputs": [
    {
     "name": "stdout",
     "output_type": "stream",
     "text": [
      "[Or(And(w0 == 20, h0 == 20), And(w0 == 20, h0 == 20)), Or(And(w1 == 40, h1 == 70), And(w1 == 70, h1 == 40)), Or(And(w2 == 60, h2 == 80), And(w2 == 80, h2 == 60)), Or(And(w3 == 30, h3 == 20), And(w3 == 20, h3 == 30))]\n"
     ]
    }
   ],
   "source": [
    "print(Form)"
   ]
  },
  {
   "cell_type": "markdown",
   "id": "6dbde684",
   "metadata": {
    "slideshow": {
     "slide_type": "slide"
    }
   },
   "source": [
    "**Being Inside.**\n",
    "\n",
    "Let \n",
    "* $(0,0)$ is lowest left corner of big rectangle.\n",
    "* $W$ is width of big **rectangele**.\n",
    "* $H$ is height of big **rectangle**.\n",
    "\n",
    "Condition.\n",
    "* $x_i \\geq 0 \\land x_i + w_i \\leq W$\n",
    "* $y_i \\geq 0 \\land y_i + h_i \\leq H$ \n",
    "* for all $i = 1, 2, 3, \\cdots, n$\n"
   ]
  },
  {
   "cell_type": "code",
   "execution_count": 16,
   "id": "73aabcf2",
   "metadata": {
    "slideshow": {
     "slide_type": "slide"
    }
   },
   "outputs": [],
   "source": [
    "Width = 100\n",
    "Height = 100"
   ]
  },
  {
   "cell_type": "code",
   "execution_count": 17,
   "id": "e3b07f65",
   "metadata": {
    "slideshow": {
     "slide_type": "fragment"
    }
   },
   "outputs": [],
   "source": [
    "x = [Int(f'x{i}') for i in range(4)]\n",
    "y = [Int(f'y{i}') for i in range(4)]"
   ]
  },
  {
   "cell_type": "code",
   "execution_count": 18,
   "id": "ad99f44f",
   "metadata": {
    "slideshow": {
     "slide_type": "fragment"
    }
   },
   "outputs": [],
   "source": [
    "IN = [And(x[i]>=0,x[i]+w[i]<=Width,y[i]>=0,y[i]+h[i]<=Height) for i in range(4)]"
   ]
  },
  {
   "cell_type": "markdown",
   "id": "e7f99f33",
   "metadata": {
    "slideshow": {
     "slide_type": "slide"
    }
   },
   "source": [
    "**Non-Overlab.**\n",
    "\n",
    "Let $I$ and $J$ be rectangle.\n",
    "\n",
    "* $(x_i, y_i)$ be a lower corner of $I$\n",
    "* $(x_j, y_j)$ be a lower corner of $J$\n",
    "* $w_i$ be the width of $I$\n",
    "* $h_i$ be the height of $I$\n",
    "* $w_j$ be the width of $J$\n",
    "* $h_j$ be the height of $J$\n"
   ]
  },
  {
   "cell_type": "markdown",
   "id": "cd39901c",
   "metadata": {
    "slideshow": {
     "slide_type": "subslide"
    }
   },
   "source": [
    "condition.\n",
    "\n",
    "* $x_i + w_i \\leq x_j$ or\n",
    "* $x_j + w_j \\leq x_i$ or\n",
    "* $y_i + h_i \\leq y_j$ or\n",
    "* $y_j + h_j \\leq y_i$"
   ]
  },
  {
   "cell_type": "code",
   "execution_count": 19,
   "id": "c66c787e",
   "metadata": {
    "slideshow": {
     "slide_type": "slide"
    }
   },
   "outputs": [],
   "source": [
    "Overlap = []\n",
    "for i,j in [(m,k) for m in range(4) for k in range(4) if m < k]:\n",
    "    Overlap = Overlap + [Or(x[i]+w[i]<=x[j],x[j]+w[j]<=x[i],y[i]+h[i]<=y[j],y[j]+h[j]<=y[i])]"
   ]
  },
  {
   "cell_type": "markdown",
   "id": "c4503089",
   "metadata": {
    "slideshow": {
     "slide_type": "slide"
    }
   },
   "source": [
    "#### Solve"
   ]
  },
  {
   "cell_type": "code",
   "execution_count": 20,
   "id": "db7f3ec5",
   "metadata": {
    "slideshow": {
     "slide_type": "fragment"
    }
   },
   "outputs": [],
   "source": [
    "s = Solver()\n",
    "s.add(Form + IN + Overlap)"
   ]
  },
  {
   "cell_type": "code",
   "execution_count": 21,
   "id": "d8cbd6fa",
   "metadata": {
    "slideshow": {
     "slide_type": "fragment"
    }
   },
   "outputs": [
    {
     "data": {
      "text/html": [
       "<b>sat</b>"
      ],
      "text/plain": [
       "sat"
      ]
     },
     "execution_count": 21,
     "metadata": {},
     "output_type": "execute_result"
    }
   ],
   "source": [
    "s.check()"
   ]
  },
  {
   "cell_type": "code",
   "execution_count": 22,
   "id": "c645d7b9",
   "metadata": {
    "slideshow": {
     "slide_type": "fragment"
    }
   },
   "outputs": [],
   "source": [
    "m = s.model()"
   ]
  },
  {
   "cell_type": "markdown",
   "id": "8f2bfc9e",
   "metadata": {
    "slideshow": {
     "slide_type": "slide"
    }
   },
   "source": [
    "#### Visulize"
   ]
  },
  {
   "cell_type": "code",
   "execution_count": 23,
   "id": "5d408a13",
   "metadata": {
    "scrolled": true,
    "slideshow": {
     "slide_type": "subslide"
    }
   },
   "outputs": [
    {
     "data": {
      "text/plain": [
       "<matplotlib.image.AxesImage at 0x24462a47948>"
      ]
     },
     "execution_count": 23,
     "metadata": {},
     "output_type": "execute_result"
    },
    {
     "data": {
      "image/png": "[encoded data removed]",
      "text/plain": [
       "<Figure size 432x288 with 1 Axes>"
      ]
     },
     "metadata": {
      "needs_background": "light"
     },
     "output_type": "display_data"
    }
   ],
   "source": [
    "img = np.zeros([Width,Height,3],dtype=np.uint8)\n",
    "img.fill(255)\n",
    "for i in range(4):\n",
    "    X = m[x[i]].as_long()\n",
    "    Y = m[y[i]].as_long()\n",
    "    W = m[w[i]].as_long()\n",
    "    H = m[h[i]].as_long()\n",
    "    cv2.rectangle(img,(X,100-Y),((X+W),100-(Y+H)),(0,255,0),-1)\n",
    "    cv2.rectangle(img,(X,100-Y),((X+W),100-(Y+H)),(0,0,0),1)\n",
    "plt.imshow(img)"
   ]
  },
  {
   "cell_type": "code",
   "execution_count": 24,
   "id": "e0defbb7",
   "metadata": {
    "slideshow": {
     "slide_type": "slide"
    }
   },
   "outputs": [
    {
     "data": {
      "text/html": [
       "<iframe src=\"https://playground.tensorflow.org\" width=\"1200\" height=\"1000\"></iframe>\n"
      ],
      "text/plain": [
       "<IPython.core.display.HTML object>"
      ]
     },
     "metadata": {},
     "output_type": "display_data"
    }
   ],
   "source": [
    "%%html\n",
    "<iframe src=\"https://playground.tensorflow.org\" width=\"1200\" height=\"1000\"></iframe>"
   ]
  },
  {
   "cell_type": "code",
   "execution_count": null,
   "id": "e6ea8ae4",
   "metadata": {},
   "outputs": [],
   "source": []
  },
  {
   "cell_type": "code",
   "execution_count": null,
   "id": "fd45ce9c",
   "metadata": {},
   "outputs": [],
   "source": []
  },
  {
   "cell_type": "code",
   "execution_count": null,
   "id": "76045f4e",
   "metadata": {},
   "outputs": [],
   "source": []
  },
  {
   "cell_type": "code",
   "execution_count": null,
   "id": "938a81b6",
   "metadata": {},
   "outputs": [],
   "source": []
  },
  {
   "cell_type": "code",
   "execution_count": null,
   "id": "ecfb6fda",
   "metadata": {},
   "outputs": [],
   "source": []
  }
 ],
 "metadata": {
  "celltoolbar": "Slideshow",
  "kernelspec": {
   "display_name": "Python (AIML)",
   "language": "python",
   "name": "aiml"
  },
  "language_info": {
   "codemirror_mode": {
    "name": "ipython",
    "version": 3
   },
   "file_extension": ".py",
   "mimetype": "text/x-python",
   "name": "python",
   "nbconvert_exporter": "python",
   "pygments_lexer": "ipython3",
   "version": "3.7.9"
  }
 },
 "nbformat": 4,
 "nbformat_minor": 5
}
